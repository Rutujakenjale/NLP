{
 "cells": [
  {
   "cell_type": "code",
   "execution_count": 40,
   "metadata": {},
   "outputs": [],
   "source": [
    "import nltk\n",
    "import re"
   ]
  },
  {
   "cell_type": "code",
   "execution_count": 41,
   "metadata": {},
   "outputs": [],
   "source": [
    "texts=[\"Python typically involves less code.\",\n",
    "      \"Python does not require a lot of written code.\",\n",
    "      \"it also takes less time to complete a job.\",\n",
    "      \"it’s fair to say Python is one hell of a powerfully simplistic and productive tool for programmers and data scientists.\"]"
   ]
  },
  {
   "cell_type": "code",
   "execution_count": 42,
   "metadata": {},
   "outputs": [
    {
     "name": "stdout",
     "output_type": "stream",
     "text": [
      "['Python', 'typically', 'involves', 'less', 'code', 'Python', 'does', 'not', 'require', 'a', 'lot', 'of', 'written', 'code', 'it', 'also', 'takes', 'less', 'time', 'to', 'complete', 'a', 'job', 'it', 's', 'fair', 'to', 'say', 'Python', 'is', 'one', 'hell', 'of', 'a', 'powerfully', 'simplistic', 'and', 'productive', 'tool', 'for', 'programmers', 'and', 'data', 'scientists']\n"
     ]
    }
   ],
   "source": [
    "#tokenization\n",
    "from nltk.tokenize import sent_tokenize,word_tokenize\n",
    "text=re.sub('[^a-zA-Z]',\" \",str(texts))\n",
    "tokenize_text=word_tokenize(text)\n",
    "print(tokenize_text)"
   ]
  },
  {
   "cell_type": "code",
   "execution_count": 43,
   "metadata": {},
   "outputs": [
    {
     "name": "stdout",
     "output_type": "stream",
     "text": [
      "['Python', 'typically', 'involves', 'less', 'code', 'Python', 'require', 'lot', 'written', 'code', 'also', 'takes', 'less', 'time', 'complete', 'job', 'fair', 'say', 'Python', 'one', 'hell', 'powerfully', 'simplistic', 'productive', 'tool', 'programmers', 'data', 'scientists']\n"
     ]
    }
   ],
   "source": [
    "#remove stopwords\n",
    "from nltk.corpus import stopwords\n",
    "stopword=set(stopwords.words('english'))\n",
    "text= [w for w in tokenize_text if not w in stopword]\n",
    "print(text)"
   ]
  },
  {
   "cell_type": "code",
   "execution_count": 44,
   "metadata": {},
   "outputs": [
    {
     "name": "stdout",
     "output_type": "stream",
     "text": [
      "python\n",
      "typic\n",
      "involv\n",
      "less\n",
      "code\n",
      "python\n",
      "requir\n",
      "lot\n",
      "written\n",
      "code\n",
      "also\n",
      "take\n",
      "less\n",
      "time\n",
      "complet\n",
      "job\n",
      "fair\n",
      "say\n",
      "python\n",
      "one\n",
      "hell\n",
      "power\n",
      "simplist\n",
      "product\n",
      "tool\n",
      "programm\n",
      "data\n",
      "scientist\n"
     ]
    }
   ],
   "source": [
    "#stemming \n",
    "from nltk.stem import PorterStemmer\n",
    "ps=PorterStemmer()\n",
    "for w in text:\n",
    "    print(ps.stem(w))"
   ]
  },
  {
   "cell_type": "code",
   "execution_count": null,
   "metadata": {},
   "outputs": [],
   "source": []
  }
 ],
 "metadata": {
  "kernelspec": {
   "display_name": "Python 3",
   "language": "python",
   "name": "python3"
  },
  "language_info": {
   "codemirror_mode": {
    "name": "ipython",
    "version": 3
   },
   "file_extension": ".py",
   "mimetype": "text/x-python",
   "name": "python",
   "nbconvert_exporter": "python",
   "pygments_lexer": "ipython3",
   "version": "3.6.4"
  }
 },
 "nbformat": 4,
 "nbformat_minor": 2
}
